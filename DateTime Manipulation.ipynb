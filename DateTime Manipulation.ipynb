{
 "cells": [
  {
   "cell_type": "code",
   "execution_count": 1,
   "metadata": {
    "scrolled": true
   },
   "outputs": [
    {
     "name": "stdout",
     "output_type": "stream",
     "text": [
      "2020-01-02 13:53:27.080071\n"
     ]
    }
   ],
   "source": [
    "# import datetime class from datetime module\n",
    "from datetime import datetime\n",
    "\n",
    "# get today's date\n",
    "today = datetime.now()\n",
    "print(today)"
   ]
  },
  {
   "cell_type": "code",
   "execution_count": 2,
   "metadata": {},
   "outputs": [
    {
     "name": "stdout",
     "output_type": "stream",
     "text": [
      "Type :-  <class 'datetime.datetime'>\n"
     ]
    }
   ],
   "source": [
    "print('Type :- ',type(today))"
   ]
  },
  {
   "cell_type": "code",
   "execution_count": 3,
   "metadata": {},
   "outputs": [
    {
     "name": "stdout",
     "output_type": "stream",
     "text": [
      "Hour:  13\n",
      "Minute:  53\n"
     ]
    }
   ],
   "source": [
    "dt_nw = datetime.now()\n",
    "\n",
    "# to get hour from datetime\n",
    "print('Hour: ', dt_nw.hour)\n",
    "\n",
    "# to get minute from datetime\n",
    "print('Minute: ', dt_nw.minute)"
   ]
  },
  {
   "cell_type": "code",
   "execution_count": 9,
   "metadata": {},
   "outputs": [
    {
     "name": "stdout",
     "output_type": "stream",
     "text": [
      "Month:  1\n",
      "Year:  2020\n",
      "Day of Month: 2\n",
      "Day of Week (number):  3\n",
      "Day of Week (name):  Thursday\n"
     ]
    }
   ],
   "source": [
    "# import calendar module\n",
    "import calendar\n",
    "\n",
    "my_date= datetime.now()\n",
    "# To get month from date\n",
    "print('Month: ', my_date.month) \n",
    "\n",
    "# To get month from year\n",
    "print('Year: ', my_date.year) \n",
    "\n",
    "# To get day of the month\n",
    "print('Day of Month:', my_date.day)\n",
    "\n",
    "# to get name of day(in number) from date\n",
    "print('Day of Week (number): ', my_date.weekday())\n",
    "\n",
    "# to get name of day from date\n",
    "print('Day of Week (name): ', calendar.day_name[my_date.weekday()])"
   ]
  },
  {
   "cell_type": "code",
   "execution_count": 4,
   "metadata": {},
   "outputs": [
    {
     "name": "stdout",
     "output_type": "stream",
     "text": [
      "2020-01-01 03:50:00+00:00\n",
      "2020-01-01 09:50:00+06:00\n",
      "2020-01-01 04:50:00+01:00\n"
     ]
    }
   ],
   "source": [
    "# import timezone from pytz module\n",
    "\n",
    "from pytz import timezone\n",
    "\n",
    "# Create timezone UTC\n",
    "\n",
    "utc = timezone('UTC')\n",
    "\n",
    "# Localize date & time\n",
    "\n",
    "loc = utc.localize(datetime(2020, 1, 1, 3, 50, 0))\n",
    "print(loc)\n",
    "\n",
    "# Convert localized date & time into Asia/Dhaka timezone\n",
    "\n",
    "dhaka = timezone(\"Asia/Dhaka\")\n",
    "print(loc.astimezone(dhaka))\n",
    "\n",
    "# Convert localized date & time into Europe/Berlin timezone\n",
    "\n",
    "berlin = timezone('Europe/Berlin')\n",
    "print(loc.astimezone(berlin))"
   ]
  },
  {
   "cell_type": "code",
   "execution_count": 5,
   "metadata": {},
   "outputs": [
    {
     "name": "stdout",
     "output_type": "stream",
     "text": [
      "365 days, 12:30:00\n"
     ]
    }
   ],
   "source": [
    "#import timedelta\n",
    "from datetime import timedelta\n",
    "print(timedelta(days= 365, hours= 12, minutes= 30))"
   ]
  },
  {
   "cell_type": "code",
   "execution_count": 6,
   "metadata": {
    "scrolled": true
   },
   "outputs": [
    {
     "name": "stdout",
     "output_type": "stream",
     "text": [
      "Today's date & time:  2020-01-02 13:53:27.246029\n",
      "Date & time after one year:  2021-01-01 13:53:27.246029\n",
      "Date & time seven days ago:  2019-12-26 13:53:27.246029\n"
     ]
    }
   ],
   "source": [
    "# get current time\n",
    "now = datetime.now()\n",
    "print (\"Today's date & time: \", str(now))\n",
    "\n",
    "#add 365 days to current date\n",
    "future_date_after_one_year = now + timedelta(days = 365)\n",
    "print('Date & time after one year: ', future_date_after_one_year)\n",
    "\n",
    "#subtract 7 days from current date\n",
    "seven_days_ago = now - timedelta(days = 7)\n",
    "print('Date & time seven days ago: ', seven_days_ago)\n",
    "# print('seven_days_ago object type: ', type(seven_days_ago))"
   ]
  },
  {
   "cell_type": "code",
   "execution_count": 13,
   "metadata": {},
   "outputs": [
    {
     "name": "stdout",
     "output_type": "stream",
     "text": [
      "Today's date is:  2020-01-02 00:00:00\n"
     ]
    }
   ],
   "source": [
    "# import datetime\n",
    "from datetime import datetime\n",
    "\n",
    "date_str = \"2 january, 2020\"\n",
    "\n",
    "# format date\n",
    "date_obj = datetime.strptime(date_str, \"%d %B, %Y\")\n",
    "\n",
    "print(\"Today's date is: \", date_obj)"
   ]
  },
  {
   "cell_type": "code",
   "execution_count": 15,
   "metadata": {},
   "outputs": [
    {
     "name": "stdout",
     "output_type": "stream",
     "text": [
      "Time: 14:13:13\n",
      "Date and Time: 01/02/2020, 14:13:13\n"
     ]
    }
   ],
   "source": [
    "# current date and time\n",
    "now = datetime.now()\n",
    "\n",
    "# format time in HH:MM:SS\n",
    "time = now.strftime(\"%H:%M:%S\")\n",
    "print(\"Time:\", time)\n",
    "\n",
    "# format date\n",
    "date_time = now.strftime(\"%m/%d/%Y, %H:%M:%S\")\n",
    "print(\"Date and Time:\",date_time)"
   ]
  },
  {
   "cell_type": "code",
   "execution_count": 16,
   "metadata": {},
   "outputs": [
    {
     "name": "stdout",
     "output_type": "stream",
     "text": [
      "Date and Time : 2020-01-02 14:18:44.673931\n",
      "Timestamp: 1577971124.673931\n"
     ]
    }
   ],
   "source": [
    "# get current date\n",
    "now = datetime.now()\n",
    "\n",
    "# convert current date into timestamp\n",
    "timestamp = datetime.timestamp(now)\n",
    "\n",
    "print(\"Date and Time :\", now)\n",
    "print(\"Timestamp:\", timestamp)"
   ]
  },
  {
   "cell_type": "code",
   "execution_count": 20,
   "metadata": {},
   "outputs": [
    {
     "name": "stdout",
     "output_type": "stream",
     "text": [
      "Today's date & time: 2020-01-02 14:18:44.673931\n"
     ]
    }
   ],
   "source": [
    "timestamp = 1577971124.673931\n",
    "\n",
    "#convert timestamp to datetime object\n",
    "date_obj = datetime.fromtimestamp(timestamp)\n",
    "\n",
    "print(\"Today's date & time:\", date_obj)"
   ]
  },
  {
   "cell_type": "code",
   "execution_count": 21,
   "metadata": {},
   "outputs": [
    {
     "name": "stdout",
     "output_type": "stream",
     "text": [
      "2020-01-02 00:00:00\n"
     ]
    }
   ],
   "source": [
    "# import pandas module\n",
    "import pandas as pd\n",
    "\n",
    "# create date object using to_datetime() function\n",
    "date = pd.to_datetime(\"2nd of jan, 2020\")\n",
    "print(date)"
   ]
  }
 ],
 "metadata": {
  "kernelspec": {
   "display_name": "Python 3",
   "language": "python",
   "name": "python3"
  },
  "language_info": {
   "codemirror_mode": {
    "name": "ipython",
    "version": 3
   },
   "file_extension": ".py",
   "mimetype": "text/x-python",
   "name": "python",
   "nbconvert_exporter": "python",
   "pygments_lexer": "ipython3",
   "version": "3.7.3"
  }
 },
 "nbformat": 4,
 "nbformat_minor": 2
}
